{
 "cells": [
  {
   "cell_type": "code",
   "execution_count": 1,
   "metadata": {},
   "outputs": [],
   "source": [
    "import requests\n",
    "import json\n",
    "import pandas as pd \n",
    "\n",
    "from UtilFuncs.create_members import create_member"
   ]
  },
  {
   "attachments": {},
   "cell_type": "markdown",
   "metadata": {},
   "source": [
    "### First name, last name and mobile number will be picked from the Resources/MembersCreate.csv "
   ]
  },
  {
   "cell_type": "code",
   "execution_count": 2,
   "metadata": {},
   "outputs": [
    {
     "name": "stdout",
     "output_type": "stream",
     "text": [
      "Creating member: BurnApi Testing-Sid-1\n",
      "200\n",
      "Creating member: BurnApi Testing-Sid-2\n",
      "200\n",
      "Creating member: BurnApi Testing-Sid-3\n",
      "200\n",
      "Creating member: BurnApi Testing-Sid-4\n",
      "400\n",
      "Line 50: <Response [400]>\n"
     ]
    },
    {
     "name": "stderr",
     "output_type": "stream",
     "text": [
      "c:\\Users\\238842\\Developments\\Requests\\UtilFuncs\\create_members.py:53: FutureWarning: The frame.append method is deprecated and will be removed from pandas in a future version. Use pandas.concat instead.\n",
      "  df = df.append(pd.DataFrame(outcomes), ignore_index = True)\n"
     ]
    }
   ],
   "source": [
    "create_member()"
   ]
  }
 ],
 "metadata": {
  "kernelspec": {
   "display_name": "dev",
   "language": "python",
   "name": "python3"
  },
  "language_info": {
   "codemirror_mode": {
    "name": "ipython",
    "version": 3
   },
   "file_extension": ".py",
   "mimetype": "text/x-python",
   "name": "python",
   "nbconvert_exporter": "python",
   "pygments_lexer": "ipython3",
   "version": "3.9.16"
  },
  "orig_nbformat": 4,
  "vscode": {
   "interpreter": {
    "hash": "3bc15207a84539aee112274cea013efb7884e0d59e291eaecc120d5486a3a829"
   }
  }
 },
 "nbformat": 4,
 "nbformat_minor": 2
}
